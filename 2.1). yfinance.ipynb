{
 "cells": [
  {
   "cell_type": "markdown",
   "id": "7fa56ff2-b21f-489c-8fb3-f5738c17bbe6",
   "metadata": {},
   "source": [
    "# The yfinance Python library\n",
    "The `yfinance` is a Python library with a user-friendly interface for downloading historical market data from Yahoo Finance. It lets you get historical stock prices, dividends, and other financial data for stocks, exchange-traded funds (ETFs), and other securities.\n",
    "\n",
    "This example shows code for using `yfinance` to download historical stock prices."
   ]
  },
  {
   "cell_type": "code",
   "execution_count": 2,
   "id": "a157336d-b4ae-4476-90eb-26780a0f8c16",
   "metadata": {},
   "outputs": [],
   "source": [
    "import yfinance as yf"
   ]
  },
  {
   "cell_type": "code",
   "execution_count": 3,
   "id": "ec2a68d7-0762-4947-87ee-55fbc3e36dc8",
   "metadata": {},
   "outputs": [],
   "source": [
    "# Download historical data for a stock\n",
    "msft = yf.Ticker(\"MSFT\")\n",
    "msft_data = msft.history(period=\"max\")"
   ]
  },
  {
   "cell_type": "markdown",
   "id": "8c9ce9c3-4be7-486a-94e7-48cae9936822",
   "metadata": {},
   "source": [
    "Explanation for the above code:\n",
    "\n",
    "First, import the `yfinance` library using the alias `yf`.\n",
    "Then, create a `Ticker` object for the Microsoft stock (“MSFT”).\n",
    "Use the `history` method of the Ticker object to download the historical data for the stock. The `period` parameter of the `history` method specifies when you want to download the data. In this example, it is set to `max` to download the maximum available historical data.\n",
    "Here are some of the possible values for the period parameter and what they represent:\n",
    "\n",
    "period=\"1d\": Download 1 day of historical data.\n",
    "period=\"5d\": Download 5 days of historical data.\n",
    "period=\"1mo\": Download 1 month of historical data.\n",
    "period=\"3mo\": Download 3 months of historical data.\n",
    "period=\"6mo\": Download 6 months of historical data.\n",
    "period=\"1y\": Download 1 year of historical data.\n",
    "period=\"2y\": Download 2 years of historical data.\n",
    "period=\"5y\": Download 5 years of historical data.\n",
    "period=\"10y\": Download 10 years of historical data.\n",
    "period=\"ytd\": Download historical data since the beginning of the current year.\n",
    "period=\"max\": Download all available historical data."
   ]
  },
  {
   "cell_type": "markdown",
   "id": "10f575c6-a1d5-4d46-a5e6-41cfea57e269",
   "metadata": {},
   "source": [
    "Finally, you print the downloaded data using the `head` function. This downloaded data will display a Pandas data frame containing Microsoft's historical stock prices and other financial data."
   ]
  },
  {
   "cell_type": "code",
   "execution_count": 4,
   "id": "ddc3f4f3-532f-4219-bfbe-1968f656328c",
   "metadata": {},
   "outputs": [
    {
     "data": {
      "text/html": [
       "<div>\n",
       "<style scoped>\n",
       "    .dataframe tbody tr th:only-of-type {\n",
       "        vertical-align: middle;\n",
       "    }\n",
       "\n",
       "    .dataframe tbody tr th {\n",
       "        vertical-align: top;\n",
       "    }\n",
       "\n",
       "    .dataframe thead th {\n",
       "        text-align: right;\n",
       "    }\n",
       "</style>\n",
       "<table border=\"1\" class=\"dataframe\">\n",
       "  <thead>\n",
       "    <tr style=\"text-align: right;\">\n",
       "      <th></th>\n",
       "      <th>Open</th>\n",
       "      <th>High</th>\n",
       "      <th>Low</th>\n",
       "      <th>Close</th>\n",
       "      <th>Volume</th>\n",
       "      <th>Dividends</th>\n",
       "      <th>Stock Splits</th>\n",
       "    </tr>\n",
       "    <tr>\n",
       "      <th>Date</th>\n",
       "      <th></th>\n",
       "      <th></th>\n",
       "      <th></th>\n",
       "      <th></th>\n",
       "      <th></th>\n",
       "      <th></th>\n",
       "      <th></th>\n",
       "    </tr>\n",
       "  </thead>\n",
       "  <tbody>\n",
       "    <tr>\n",
       "      <th>1986-03-13 00:00:00-05:00</th>\n",
       "      <td>0.054594</td>\n",
       "      <td>0.062623</td>\n",
       "      <td>0.054594</td>\n",
       "      <td>0.059946</td>\n",
       "      <td>1031788800</td>\n",
       "      <td>0.0</td>\n",
       "      <td>0.0</td>\n",
       "    </tr>\n",
       "    <tr>\n",
       "      <th>1986-03-14 00:00:00-05:00</th>\n",
       "      <td>0.059946</td>\n",
       "      <td>0.063158</td>\n",
       "      <td>0.059946</td>\n",
       "      <td>0.062087</td>\n",
       "      <td>308160000</td>\n",
       "      <td>0.0</td>\n",
       "      <td>0.0</td>\n",
       "    </tr>\n",
       "    <tr>\n",
       "      <th>1986-03-17 00:00:00-05:00</th>\n",
       "      <td>0.062087</td>\n",
       "      <td>0.063694</td>\n",
       "      <td>0.062087</td>\n",
       "      <td>0.063158</td>\n",
       "      <td>133171200</td>\n",
       "      <td>0.0</td>\n",
       "      <td>0.0</td>\n",
       "    </tr>\n",
       "    <tr>\n",
       "      <th>1986-03-18 00:00:00-05:00</th>\n",
       "      <td>0.063158</td>\n",
       "      <td>0.063694</td>\n",
       "      <td>0.061017</td>\n",
       "      <td>0.061552</td>\n",
       "      <td>67766400</td>\n",
       "      <td>0.0</td>\n",
       "      <td>0.0</td>\n",
       "    </tr>\n",
       "    <tr>\n",
       "      <th>1986-03-19 00:00:00-05:00</th>\n",
       "      <td>0.061552</td>\n",
       "      <td>0.062087</td>\n",
       "      <td>0.059946</td>\n",
       "      <td>0.060482</td>\n",
       "      <td>47894400</td>\n",
       "      <td>0.0</td>\n",
       "      <td>0.0</td>\n",
       "    </tr>\n",
       "  </tbody>\n",
       "</table>\n",
       "</div>"
      ],
      "text/plain": [
       "                               Open      High       Low     Close      Volume  \\\n",
       "Date                                                                            \n",
       "1986-03-13 00:00:00-05:00  0.054594  0.062623  0.054594  0.059946  1031788800   \n",
       "1986-03-14 00:00:00-05:00  0.059946  0.063158  0.059946  0.062087   308160000   \n",
       "1986-03-17 00:00:00-05:00  0.062087  0.063694  0.062087  0.063158   133171200   \n",
       "1986-03-18 00:00:00-05:00  0.063158  0.063694  0.061017  0.061552    67766400   \n",
       "1986-03-19 00:00:00-05:00  0.061552  0.062087  0.059946  0.060482    47894400   \n",
       "\n",
       "                           Dividends  Stock Splits  \n",
       "Date                                                \n",
       "1986-03-13 00:00:00-05:00        0.0           0.0  \n",
       "1986-03-14 00:00:00-05:00        0.0           0.0  \n",
       "1986-03-17 00:00:00-05:00        0.0           0.0  \n",
       "1986-03-18 00:00:00-05:00        0.0           0.0  \n",
       "1986-03-19 00:00:00-05:00        0.0           0.0  "
      ]
     },
     "execution_count": 4,
     "metadata": {},
     "output_type": "execute_result"
    }
   ],
   "source": [
    "# Display the downloaded data\n",
    "msft_data.head()"
   ]
  },
  {
   "cell_type": "code",
   "execution_count": null,
   "id": "12cc93d5-4eb6-44e1-a987-803d78699a96",
   "metadata": {},
   "outputs": [],
   "source": []
  }
 ],
 "metadata": {
  "kernelspec": {
   "display_name": "Python 3 (ipykernel)",
   "language": "python",
   "name": "python3"
  },
  "language_info": {
   "codemirror_mode": {
    "name": "ipython",
    "version": 3
   },
   "file_extension": ".py",
   "mimetype": "text/x-python",
   "name": "python",
   "nbconvert_exporter": "python",
   "pygments_lexer": "ipython3",
   "version": "3.12.7"
  }
 },
 "nbformat": 4,
 "nbformat_minor": 5
}
